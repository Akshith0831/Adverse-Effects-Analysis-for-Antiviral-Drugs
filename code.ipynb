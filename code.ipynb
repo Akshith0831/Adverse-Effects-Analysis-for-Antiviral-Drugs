{
  "nbformat": 4,
  "nbformat_minor": 0,
  "metadata": {
    "colab": {
      "provenance": []
    },
    "kernelspec": {
      "name": "python3",
      "display_name": "Python 3"
    },
    "language_info": {
      "name": "python"
    }
  },
  "cells": [
    {
      "cell_type": "code",
      "execution_count": 2,
      "metadata": {
        "colab": {
          "base_uri": "https://localhost:8080/"
        },
        "id": "W2U8GDIlllGg",
        "outputId": "7e1b6308-ee3e-4b20-c6da-85b49e826a37"
      },
      "outputs": [
        {
          "output_type": "stream",
          "name": "stderr",
          "text": [
            "<ipython-input-2-f1843e3610a5>:15: FutureWarning: Downcasting behavior in `replace` is deprecated and will be removed in a future version. To retain the old behavior, explicitly call `result.infer_objects(copy=False)`. To opt-in to the future behavior, set `pd.set_option('future.no_silent_downcasting', True)`\n",
            "  df.replace(['Not Specified', '-'], np.nan, inplace=True)\n"
          ]
        },
        {
          "output_type": "stream",
          "name": "stdout",
          "text": [
            "          Sex Patient Age Patient Weight  \\\n",
            "0        Male       55 YR       88.65 KG   \n",
            "15     Female       89 YR       78.93 KG   \n",
            "19       Male       89 YR       77.11 KG   \n",
            "38     Female       69 YR          58 KG   \n",
            "40     Female       87 YR      58.957 KG   \n",
            "...       ...         ...            ...   \n",
            "48289  Female       64 YR       67.13 KG   \n",
            "48290    Male       78 YR         104 KG   \n",
            "48291  Female       41 YR        79.2 KG   \n",
            "48292  Female       67 YR          81 KG   \n",
            "48293  Female       23 YR          90 KG   \n",
            "\n",
            "                                          Reason for Use  \\\n",
            "0                                               Covid-19   \n",
            "15                                    Covid-19 Treatment   \n",
            "19                                    Covid-19 Treatment   \n",
            "38                 Cognitive Disorder;Covid-19 Treatment   \n",
            "40     Anxiety;Autoimmune Hepatitis;Blood Pressure Ab...   \n",
            "...                                                  ...   \n",
            "48289                                 Multiple Sclerosis   \n",
            "48290                                           Covid-19   \n",
            "48291                                           Covid-19   \n",
            "48292                                           Covid-19   \n",
            "48293                           Sars-Cov-2 Test Positive   \n",
            "\n",
            "                                               Reactions  \n",
            "0                     Dysgeusia;Vomiting;Nausea;Headache  \n",
            "15                                             Diarrhoea  \n",
            "19                                             Diarrhoea  \n",
            "38     Incorrect Product Administration Duration;Seps...  \n",
            "40     Illness;Deafness Unilateral;Covid-19;Urinary T...  \n",
            "...                                                  ...  \n",
            "48289                          Nausea;Diarrhoea;Vomiting  \n",
            "48290                                Acute Kidney Injury  \n",
            "48291  Noninfective Gingivitis;Gingival Bleeding;Dysg...  \n",
            "48292  Swelling Face;Pruritus;Erythema;Urticaria;Dysg...  \n",
            "48293  Urinary Retention;Dysuria;Blood Pressure Decre...  \n",
            "\n",
            "[11880 rows x 5 columns]\n",
            "Cleaned data saved to: /content/Original.xlsx\n"
          ]
        }
      ],
      "source": [
        "\timport pandas as pd\n",
        "\timport numpy as np\n",
        "\n",
        "\t# Load the dataset and check available sheet names\n",
        "\tfile_path = '/content/Original.xlsx'\n",
        "\texcel_file = pd.ExcelFile(file_path)\n",
        "\n",
        "\t# Assuming we want to use the first sheet if you are not sure about the name\n",
        "\tsheet_name = excel_file.sheet_names[0]  # Replace this if you want a specific sheet name\n",
        "\n",
        "\t# Load the data from the identified sheet\n",
        "\tdf = pd.read_excel(file_path, sheet_name=sheet_name)\n",
        "\n",
        "\t# Replace 'Not Specified' and '-' with NaN\n",
        "\tdf.replace(['Not Specified', '-'], np.nan, inplace=True)\n",
        "\n",
        "\t# Select only the columns of interest\n",
        "\tcolumns_to_keep = ['Sex', 'Patient Age', 'Patient Weight', 'Reason for Use', 'Reactions']\n",
        "\tdf = df[columns_to_keep]\n",
        "\n",
        "\t# Drop rows that contain NaN values after the replacements\n",
        "\tdf_cleaned = df.dropna()\n",
        "\n",
        "\t# Display the cleaned dataset\n",
        "\tprint(df_cleaned)\n",
        "\n",
        "\t# Save the cleaned data to a new Excel file\n",
        "\toutput_path = '/content/Original.xlsx'\n",
        "\tdf_cleaned.to_excel(output_path, index=False)\n",
        "\n",
        "\t# Output the path for easy reference\n",
        "\tprint(f\"Cleaned data saved to: {output_path}\")\n"
      ]
    },
    {
      "cell_type": "code",
      "source": [
        "import pandas as pd\n",
        "\n",
        "# Load the dataset\n",
        "file_path = '/content/Original.xlsx'  # Update this if necessary\n",
        "df = pd.read_excel(file_path)\n",
        "\n",
        "# Function to create age groups based on the 'Patient Age' column\n",
        "def create_age_group(age):\n",
        "    if pd.isnull(age):\n",
        "        return None\n",
        "    age = float(age.split()[0])  # Extract the numeric value from '39 YR' type values\n",
        "    if age <= 6:\n",
        "        return '0-6'\n",
        "    elif age <= 12:\n",
        "        return '7-12'\n",
        "    elif age <= 21:\n",
        "        return '13-21'\n",
        "    elif age <= 40:\n",
        "        return '22-35'\n",
        "    elif age <= 50:\n",
        "        return '36-50'\n",
        "    elif age <= 60:\n",
        "        return '51-60'\n",
        "    elif age <= 80:\n",
        "        return '61-80'\n",
        "    else:\n",
        "        return '81+'\n",
        "\n",
        "# Apply age grouping to the dataset\n",
        "df['Age Group'] = df['Patient Age'].apply(create_age_group)\n",
        "\n",
        "# Function to count frequencies of reactions for a given age group and sex\n",
        "def count_reactions_by_age_sex(data, age_group, sex):\n",
        "    age_sex_data = data[(data['Age Group'] == age_group) & (data['Sex'] == sex)]\n",
        "    reactions_freq = {}\n",
        "\n",
        "    for reactions in age_sex_data['Reactions']:\n",
        "        if pd.notnull(reactions):\n",
        "            for reaction in reactions.split(';'):\n",
        "                reaction = reaction.strip()\n",
        "                reactions_freq[reaction] = reactions_freq.get(reaction, 0) + 1\n",
        "\n",
        "    return reactions_freq\n",
        "\n",
        "# Define age groups and sexes\n",
        "age_groups = ['0-6', '7-12', '13-21', '22-35', '36-50', '51-60', '61-80', '81+']\n",
        "sexes = ['Male', 'Female']\n",
        "\n",
        "# Write frequencies of reactions for each age group and sex to separate sheets in Excel\n",
        "output_file = '/content/Reactions_Frequencies_By_Age_Sex.xlsx'  # Path for output\n",
        "with pd.ExcelWriter(output_file) as writer:\n",
        "    for age_group in age_groups:\n",
        "        for sex in sexes:\n",
        "            reactions_freq = count_reactions_by_age_sex(df, age_group, sex)\n",
        "            reactions_df = pd.DataFrame(list(reactions_freq.items()), columns=['Reaction', 'Frequency'])\n",
        "            sheet_name = f'{age_group}_{sex}'\n",
        "            reactions_df.to_excel(writer, sheet_name=sheet_name, index=False)\n",
        "\n",
        "print(f\"Output saved to {output_file}\")\n"
      ],
      "metadata": {
        "colab": {
          "base_uri": "https://localhost:8080/"
        },
        "id": "VrHOsqR4n1Y2",
        "outputId": "0465b82e-71b7-4221-c5aa-90c64dfedc65"
      },
      "execution_count": 3,
      "outputs": [
        {
          "output_type": "stream",
          "name": "stdout",
          "text": [
            "Output saved to /content/Reactions_Frequencies_By_Age_Sex.xlsx\n"
          ]
        }
      ]
    },
    {
      "cell_type": "code",
      "source": [
        "import pandas as pd\n",
        "import re\n",
        "\n",
        "# Read data from Excel file\n",
        "input_file = '/content/Original.xlsx'\n",
        "df = pd.read_excel(input_file)\n",
        "\n",
        "def age_to_years(age_str):\n",
        "    try:\n",
        "        age_str = str(age_str)\n",
        "\n",
        "\n",
        "        numbers = re.findall(r'\\d+', age_str)\n",
        "        total_years = 0\n",
        "\n",
        "        for number in numbers:\n",
        "            if 'YR' in age_str:\n",
        "                total_years += int(number)\n",
        "            elif 'DAY' in age_str:\n",
        "                total_years += int(number) / 365\n",
        "            elif 'mth' in age_str:\n",
        "                total_years += int(number) / 12\n",
        "            else:\n",
        "                total_years += 0\n",
        "\n",
        "        return total_years\n",
        "\n",
        "    except ValueError:\n",
        "        return None\n",
        "\n",
        "# Function to group age\n",
        "def group_age(age):\n",
        "    if age is None:\n",
        "        return None\n",
        "\n",
        "    if age <= 6:\n",
        "        return '0-6'\n",
        "    elif age <= 12:\n",
        "        return '7-12'\n",
        "    elif age <= 21:\n",
        "        return '13-21'\n",
        "    elif age <= 40:\n",
        "        return '22-35'\n",
        "    elif age <= 50:\n",
        "        return '36-50'\n",
        "    elif age <= 60:\n",
        "        return '51-60'\n",
        "    elif age <= 80:\n",
        "        return '61-80'\n",
        "    else:\n",
        "        return '81+'\n",
        "\n",
        "df['Age (Years)'] = df['Patient Age'].apply(age_to_years)\n",
        "\n",
        "\n",
        "df['Age Group'] = df['Age (Years)'].apply(group_age)\n",
        "\n",
        "with pd.ExcelWriter(input_file, engine='openpyxl') as writer:\n",
        "    df.to_excel(writer, index=False, sheet_name='Sheet1')\n",
        "\n",
        "print(\"Data has been successfully grouped and written back to\", input_file)\n"
      ],
      "metadata": {
        "colab": {
          "base_uri": "https://localhost:8080/"
        },
        "id": "MZ1eKEHsocJ4",
        "outputId": "053dc739-447f-4f86-9058-5208c416180a"
      },
      "execution_count": 5,
      "outputs": [
        {
          "output_type": "stream",
          "name": "stdout",
          "text": [
            "Data has been successfully grouped and written back to /content/Original.xlsx\n"
          ]
        }
      ]
    },
    {
      "cell_type": "code",
      "source": [
        "import pandas as pd\n",
        "\n",
        "# Read data from Excel file\n",
        "input_file = '/content/Original.xlsx'\n",
        "df = pd.read_excel(input_file)\n",
        "\n",
        "# Function to count frequencies of reactions for a given age group and sex\n",
        "def count_reactions_by_age_sex(data, age_group, sex):\n",
        "    age_sex_data = data[(data['Age Group'] == age_group) & (data['Sex'] == sex)]\n",
        "    reactions_freq = {}\n",
        "    for reactions in age_sex_data['Reactions']:\n",
        "        if pd.notnull(reactions):\n",
        "            for reaction in reactions.split(';'):\n",
        "                reaction = reaction.strip()\n",
        "                reactions_freq[reaction] = reactions_freq.get(reaction, 0) + 1\n",
        "    return reactions_freq\n",
        "\n",
        "# Define age groups\n",
        "age_groups = ['0-6', '7-12', '13-21', '22-40', '41-50','51-60', '61-80', '81+']\n",
        "\n",
        "# Write frequencies of reactions for each age group and sex to separate sheets\n",
        "output_file = 'Reactions_Frequencies_By_Age_Sex.xlsx'\n",
        "with pd.ExcelWriter(output_file) as writer:\n",
        "    for age_group in age_groups:\n",
        "        # Male data for current age group\n",
        "        male_reactions_freq = count_reactions_by_age_sex(df, age_group, 'Male')\n",
        "        male_reactions_df = pd.DataFrame(list(male_reactions_freq.items()), columns=['Reaction', 'Frequency'])\n",
        "        male_sheet_name = f'{age_group}_Male'\n",
        "        male_reactions_df.to_excel(writer, index=False, sheet_name=male_sheet_name)\n",
        "\n",
        "        # Female data for current age group\n",
        "        female_reactions_freq = count_reactions_by_age_sex(df, age_group, 'Female')\n",
        "        female_reactions_df = pd.DataFrame(list(female_reactions_freq.items()), columns=['Reaction', 'Frequency'])\n",
        "        female_sheet_name = f'{age_group}_Female'\n",
        "        female_reactions_df.to_excel(writer, index=False, sheet_name=female_sheet_name)\n",
        "\n",
        "print(f\"Reactions frequencies by age group and sex have been written to {output_file}.\")\n"
      ],
      "metadata": {
        "colab": {
          "base_uri": "https://localhost:8080/"
        },
        "id": "2AikSkKjouo-",
        "outputId": "93444381-c46b-45a6-fadd-c0a272f92356"
      },
      "execution_count": 6,
      "outputs": [
        {
          "output_type": "stream",
          "name": "stdout",
          "text": [
            "Reactions frequencies by age group and sex have been written to Reactions_Frequencies_By_Age_Sex.xlsx.\n"
          ]
        }
      ]
    },
    {
      "cell_type": "code",
      "source": [],
      "metadata": {
        "id": "2uSOKqHhpChi"
      },
      "execution_count": null,
      "outputs": []
    }
  ]
}